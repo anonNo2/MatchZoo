{
 "cells": [
  {
   "cell_type": "markdown",
   "metadata": {},
   "source": [
    "# Automation"
   ]
  },
  {
   "cell_type": "code",
   "execution_count": 1,
   "metadata": {
    "ExecuteTime": {
     "end_time": "2019-01-14T15:02:44.217277Z",
     "start_time": "2019-01-14T15:02:41.631396Z"
    }
   },
   "outputs": [
    {
     "name": "stderr",
     "output_type": "stream",
     "text": [
      "Using TensorFlow backend.\n"
     ]
    }
   ],
   "source": [
    "import matchzoo as mz"
   ]
  },
  {
   "cell_type": "markdown",
   "metadata": {},
   "source": [
    "## Tuner"
   ]
  },
  {
   "cell_type": "markdown",
   "metadata": {
    "ExecuteTime": {
     "end_time": "2019-01-14T03:48:22.915655Z",
     "start_time": "2019-01-14T03:48:22.879130Z"
    }
   },
   "source": [
    "### basic Usage"
   ]
  },
  {
   "cell_type": "markdown",
   "metadata": {},
   "source": [
    "A couple things are needed by the tuner:\n",
    " - a model with a parameters filled\n",
    " - preprocessed training data\n",
    " - preprocessed testing data\n",
    " \n",
    "Since MatchZoo models have pre-defined hyper-spaces, the tuner can start tuning right away once you have the data ready."
   ]
  },
  {
   "cell_type": "markdown",
   "metadata": {},
   "source": [
    "#### prepare the data"
   ]
  },
  {
   "cell_type": "code",
   "execution_count": 2,
   "metadata": {
    "ExecuteTime": {
     "end_time": "2019-01-14T15:02:44.340583Z",
     "start_time": "2019-01-14T15:02:44.219308Z"
    },
    "collapsed": true
   },
   "outputs": [],
   "source": [
    "train = mz.datasets.toy.load_data('train')\n",
    "dev = mz.datasets.toy.load_data('dev')\n",
    "test = mz.datasets.toy.load_data('test')\n",
    "prpr = mz.models.DenseBaseline.get_default_preprocessor()\n",
    "train = prpr.fit_transform(train, verbose=0)\n",
    "dev = prpr.transform(dev, verbose=0)\n",
    "test = prpr.transform(test, verbose=0)"
   ]
  },
  {
   "cell_type": "markdown",
   "metadata": {
    "ExecuteTime": {
     "end_time": "2019-01-14T10:33:22.859605Z",
     "start_time": "2019-01-14T10:33:22.857225Z"
    }
   },
   "source": [
    "#### prepare the model"
   ]
  },
  {
   "cell_type": "code",
   "execution_count": 3,
   "metadata": {
    "ExecuteTime": {
     "end_time": "2019-01-14T15:02:44.346337Z",
     "start_time": "2019-01-14T15:02:44.342454Z"
    }
   },
   "outputs": [],
   "source": [
    "model = mz.models.DenseBaseline()\n",
    "model.params['input_shapes'] = prpr.context['input_shapes']\n",
    "model.params['task'] = mz.tasks.Ranking()"
   ]
  },
  {
   "cell_type": "markdown",
   "metadata": {
    "ExecuteTime": {
     "end_time": "2019-01-14T10:33:44.646987Z",
     "start_time": "2019-01-14T10:33:44.644671Z"
    }
   },
   "source": [
    "#### start tuning"
   ]
  },
  {
   "cell_type": "code",
   "execution_count": 4,
   "metadata": {
    "ExecuteTime": {
     "end_time": "2019-01-14T15:02:48.626545Z",
     "start_time": "2019-01-14T15:02:44.349650Z"
    }
   },
   "outputs": [],
   "source": [
    "tuner = mz.auto.Tuner(params=model.params, train_data=train, test_data=dev, num_runs=5)\n",
    "results = tuner.tune()"
   ]
  },
  {
   "cell_type": "markdown",
   "metadata": {},
   "source": [
    "#### view the best hyper-parameter set"
   ]
  },
  {
   "cell_type": "code",
   "execution_count": 11,
   "metadata": {
    "ExecuteTime": {
     "end_time": "2019-01-14T15:04:21.071382Z",
     "start_time": "2019-01-14T15:04:21.067924Z"
    }
   },
   "outputs": [
    {
     "name": "stdout",
     "output_type": "stream",
     "text": [
      "model_class                   <class 'matchzoo.models.dense_baseline.DenseBaseline'>\n",
      "input_shapes                  [(30,), (30,)]\n",
      "task                          Ranking Task\n",
      "optimizer                     adam\n",
      "with_multi_layer_perceptron   True\n",
      "mlp_num_units                 231\n",
      "mlp_num_layers                4\n",
      "mlp_num_fan_out               108\n",
      "mlp_activation_func           relu \n",
      "\n",
      "mean_average_precision(0) 0.5\n"
     ]
    }
   ],
   "source": [
    "print(results['best']['params'], '\\n')\n",
    "print(str(tuner.metric), results['best']['score'])"
   ]
  },
  {
   "cell_type": "markdown",
   "metadata": {},
   "source": [
    "### understading hyper-space"
   ]
  },
  {
   "cell_type": "markdown",
   "metadata": {},
   "source": [
    "`model.params.hyper_space` reprensents the model's hyper-parameters search space, which is the cross-product of individual hyper parameter's hyper space. When a `Tuner` builds a model, for each hyper parameter in `model.params`, if the hyper-parameter has a hyper-space, then a sample will be taken in the space. However, if the hyper-parameter does not have a hyper-space, then the default value of the hyper-parameter will be used."
   ]
  },
  {
   "cell_type": "code",
   "execution_count": 12,
   "metadata": {
    "ExecuteTime": {
     "end_time": "2019-01-14T15:04:24.861164Z",
     "start_time": "2019-01-14T15:04:24.857012Z"
    }
   },
   "outputs": [
    {
     "data": {
      "text/plain": [
       "{'mlp_num_units': <hyperopt.pyll.base.Apply at 0x13c210e48>,\n",
       " 'mlp_num_layers': <hyperopt.pyll.base.Apply at 0x13c210588>,\n",
       " 'mlp_num_fan_out': <hyperopt.pyll.base.Apply at 0x13c15eba8>}"
      ]
     },
     "execution_count": 12,
     "metadata": {},
     "output_type": "execute_result"
    }
   ],
   "source": [
    "model.params.hyper_space"
   ]
  },
  {
   "cell_type": "markdown",
   "metadata": {},
   "source": [
    "In a `DenseBaseline` model, only `mlp_num_units`, `mlp_num_layers`, and `mlp_num_fan_out` have pre-defined hyper-space. In other words, only these hyper-parameters will change values during a tuning. Other hyper-parameters, like `mlp_activation_func`, are fixed and will not change."
   ]
  },
  {
   "cell_type": "code",
   "execution_count": 7,
   "metadata": {
    "ExecuteTime": {
     "end_time": "2019-01-14T15:02:48.661468Z",
     "start_time": "2019-01-14T15:02:48.647095Z"
    }
   },
   "outputs": [
    {
     "name": "stdout",
     "output_type": "stream",
     "text": [
      "if a tuner sample: {'mlp_num_fan_out': 60.0, 'mlp_num_layers': 2.0, 'mlp_num_units': 489.0} \n",
      "\n",
      "then the tuner will build a model with:\n",
      "\n",
      "model_class                   <class 'matchzoo.models.dense_baseline.DenseBaseline'>\n",
      "input_shapes                  [(30,), (30,)]\n",
      "task                          Ranking Task\n",
      "optimizer                     adam\n",
      "with_multi_layer_perceptron   True\n",
      "mlp_num_units                 489\n",
      "mlp_num_layers                2\n",
      "mlp_num_fan_out               60\n",
      "mlp_activation_func           relu \n",
      "\n",
      "\n",
      "\n",
      "if a tuner sample: {'mlp_num_fan_out': 8.0, 'mlp_num_layers': 5.0, 'mlp_num_units': 402.0} \n",
      "\n",
      "then the tuner will build a model with:\n",
      "\n",
      "model_class                   <class 'matchzoo.models.dense_baseline.DenseBaseline'>\n",
      "input_shapes                  [(30,), (30,)]\n",
      "task                          Ranking Task\n",
      "optimizer                     adam\n",
      "with_multi_layer_perceptron   True\n",
      "mlp_num_units                 402\n",
      "mlp_num_layers                5\n",
      "mlp_num_fan_out               8\n",
      "mlp_activation_func           relu \n",
      "\n",
      "\n",
      "\n",
      "if a tuner sample: {'mlp_num_fan_out': 96.0, 'mlp_num_layers': 2.0, 'mlp_num_units': 158.0} \n",
      "\n",
      "then the tuner will build a model with:\n",
      "\n",
      "model_class                   <class 'matchzoo.models.dense_baseline.DenseBaseline'>\n",
      "input_shapes                  [(30,), (30,)]\n",
      "task                          Ranking Task\n",
      "optimizer                     adam\n",
      "with_multi_layer_perceptron   True\n",
      "mlp_num_units                 158\n",
      "mlp_num_layers                2\n",
      "mlp_num_fan_out               96\n",
      "mlp_activation_func           relu \n",
      "\n",
      "\n",
      "\n"
     ]
    }
   ],
   "source": [
    "for _ in range(3):\n",
    "    sample = mz.hyper_spaces.sample(model.params.hyper_space)\n",
    "    print('if a tuner sample:', sample, '\\n')\n",
    "    for key, value in sample.items():\n",
    "        model.params[key] = value\n",
    "    print('then the tuner will build a model with:\\n')\n",
    "    print(model.params, '\\n\\n\\n')"
   ]
  },
  {
   "cell_type": "markdown",
   "metadata": {
    "ExecuteTime": {
     "end_time": "2019-01-14T13:42:49.526807Z",
     "start_time": "2019-01-14T13:42:49.496777Z"
    }
   },
   "source": [
    "This is similar to the process of a tuner sampling model hyper-parameters, but with one key difference: a tuner's hyper-space is **suggestive**. This means the sampling process in a tuner is not truely random but skewed. Scores of the past samples affect future choices: a tuner with more runs knows better about its hyper-space, and take samples in a way that will likely yields better scores.\n",
    "\n",
    "For more details, consult tuner's backend: [hyperopt](http://hyperopt.github.io/hyperopt/), and the search algorithm tuner uses: [Tree of Parzen Estimators (TPE)](https://papers.nips.cc/paper/4443-algorithms-for-hyper-parameter-optimization.pdf)"
   ]
  },
  {
   "cell_type": "markdown",
   "metadata": {},
   "source": [
    "Hyper-space of a single hyper-parameter can be printed in a human-readable format."
   ]
  },
  {
   "cell_type": "code",
   "execution_count": 23,
   "metadata": {
    "ExecuteTime": {
     "end_time": "2019-01-14T15:08:40.487150Z",
     "start_time": "2019-01-14T15:08:40.484077Z"
    }
   },
   "outputs": [
    {
     "name": "stdout",
     "output_type": "stream",
     "text": [
      "quantitative uniform distribution in  [16, 512), with a step size of 1\n"
     ]
    }
   ],
   "source": [
    "print(model.params.get('mlp_num_units').hyper_space)"
   ]
  },
  {
   "cell_type": "code",
   "execution_count": 24,
   "metadata": {
    "ExecuteTime": {
     "end_time": "2019-01-14T15:08:42.563872Z",
     "start_time": "2019-01-14T15:08:42.554957Z"
    }
   },
   "outputs": [
    {
     "data": {
      "text/html": [
       "<div>\n",
       "<style scoped>\n",
       "    .dataframe tbody tr th:only-of-type {\n",
       "        vertical-align: middle;\n",
       "    }\n",
       "\n",
       "    .dataframe tbody tr th {\n",
       "        vertical-align: top;\n",
       "    }\n",
       "\n",
       "    .dataframe thead th {\n",
       "        text-align: right;\n",
       "    }\n",
       "</style>\n",
       "<table border=\"1\" class=\"dataframe\">\n",
       "  <thead>\n",
       "    <tr style=\"text-align: right;\">\n",
       "      <th></th>\n",
       "      <th>Name</th>\n",
       "      <th>Hyper-Space</th>\n",
       "    </tr>\n",
       "  </thead>\n",
       "  <tbody>\n",
       "    <tr>\n",
       "      <th>0</th>\n",
       "      <td>model_class</td>\n",
       "      <td>None</td>\n",
       "    </tr>\n",
       "    <tr>\n",
       "      <th>1</th>\n",
       "      <td>input_shapes</td>\n",
       "      <td>None</td>\n",
       "    </tr>\n",
       "    <tr>\n",
       "      <th>2</th>\n",
       "      <td>task</td>\n",
       "      <td>None</td>\n",
       "    </tr>\n",
       "    <tr>\n",
       "      <th>3</th>\n",
       "      <td>optimizer</td>\n",
       "      <td>None</td>\n",
       "    </tr>\n",
       "    <tr>\n",
       "      <th>4</th>\n",
       "      <td>with_multi_layer_perceptron</td>\n",
       "      <td>None</td>\n",
       "    </tr>\n",
       "    <tr>\n",
       "      <th>5</th>\n",
       "      <td>mlp_num_units</td>\n",
       "      <td>quantitative uniform distribution in  [16, 512...</td>\n",
       "    </tr>\n",
       "    <tr>\n",
       "      <th>6</th>\n",
       "      <td>mlp_num_layers</td>\n",
       "      <td>quantitative uniform distribution in  [1, 5), ...</td>\n",
       "    </tr>\n",
       "    <tr>\n",
       "      <th>7</th>\n",
       "      <td>mlp_num_fan_out</td>\n",
       "      <td>quantitative uniform distribution in  [4, 128)...</td>\n",
       "    </tr>\n",
       "    <tr>\n",
       "      <th>8</th>\n",
       "      <td>mlp_activation_func</td>\n",
       "      <td>None</td>\n",
       "    </tr>\n",
       "  </tbody>\n",
       "</table>\n",
       "</div>"
      ],
      "text/plain": [
       "                          Name  \\\n",
       "0                  model_class   \n",
       "1                 input_shapes   \n",
       "2                         task   \n",
       "3                    optimizer   \n",
       "4  with_multi_layer_perceptron   \n",
       "5                mlp_num_units   \n",
       "6               mlp_num_layers   \n",
       "7              mlp_num_fan_out   \n",
       "8          mlp_activation_func   \n",
       "\n",
       "                                         Hyper-Space  \n",
       "0                                               None  \n",
       "1                                               None  \n",
       "2                                               None  \n",
       "3                                               None  \n",
       "4                                               None  \n",
       "5  quantitative uniform distribution in  [16, 512...  \n",
       "6  quantitative uniform distribution in  [1, 5), ...  \n",
       "7  quantitative uniform distribution in  [4, 128)...  \n",
       "8                                               None  "
      ]
     },
     "execution_count": 24,
     "metadata": {},
     "output_type": "execute_result"
    }
   ],
   "source": [
    "model.params.to_frame()[['Name', 'Hyper-Space']]"
   ]
  },
  {
   "cell_type": "markdown",
   "metadata": {},
   "source": [
    "### advanced usage"
   ]
  }
 ],
 "metadata": {
  "hide_input": false,
  "kernelspec": {
   "display_name": "matchzoo",
   "language": "python",
   "name": "matchzoo"
  },
  "language_info": {
   "codemirror_mode": {
    "name": "ipython",
    "version": 3
   },
   "file_extension": ".py",
   "mimetype": "text/x-python",
   "name": "python",
   "nbconvert_exporter": "python",
   "pygments_lexer": "ipython3",
   "version": "3.6.3"
  },
  "toc": {
   "nav_menu": {},
   "number_sections": true,
   "sideBar": true,
   "skip_h1_title": false,
   "toc_cell": false,
   "toc_position": {},
   "toc_section_display": "block",
   "toc_window_display": false
  },
  "varInspector": {
   "cols": {
    "lenName": 16,
    "lenType": 16,
    "lenVar": 40
   },
   "kernels_config": {
    "python": {
     "delete_cmd_postfix": "",
     "delete_cmd_prefix": "del ",
     "library": "var_list.py",
     "varRefreshCmd": "print(var_dic_list())"
    },
    "r": {
     "delete_cmd_postfix": ") ",
     "delete_cmd_prefix": "rm(",
     "library": "var_list.r",
     "varRefreshCmd": "cat(var_dic_list()) "
    }
   },
   "types_to_exclude": [
    "module",
    "function",
    "builtin_function_or_method",
    "instance",
    "_Feature"
   ],
   "window_display": false
  }
 },
 "nbformat": 4,
 "nbformat_minor": 2
}
